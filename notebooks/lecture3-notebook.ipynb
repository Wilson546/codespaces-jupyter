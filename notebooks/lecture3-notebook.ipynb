{
 "cells": [
  {
   "cell_type": "code",
   "execution_count": 3,
   "metadata": {},
   "outputs": [
    {
     "name": "stdout",
     "output_type": "stream",
     "text": [
      "x is 0, 1, or 2\n"
     ]
    }
   ],
   "source": [
    "x = 1\n",
    "if x > 2:\n",
    "    print(\"x is bigger than 2\")\n",
    "elif x < 0:\n",
    "    print(\"x is negative\")\n",
    "else:\n",
    "    print(\"x is 0, 1, or 2\")"
   ]
  },
  {
   "cell_type": "code",
   "execution_count": 4,
   "metadata": {},
   "outputs": [
    {
     "data": {
      "text/plain": [
       "'Hello World'"
      ]
     },
     "execution_count": 4,
     "metadata": {},
     "output_type": "execute_result"
    }
   ],
   "source": [
    "\"Hello World\""
   ]
  },
  {
   "cell_type": "code",
   "execution_count": 13,
   "metadata": {},
   "outputs": [
    {
     "name": "stdout",
     "output_type": "stream",
     "text": [
      "5122\n",
      "value is 5122\n"
     ]
    }
   ],
   "source": [
    "import random\n",
    "\n",
    "value = random.randint(1000,9999)\n",
    "\n",
    "print(value)\n",
    "\n",
    "if value % 2 == 1:\n",
    "    print(\"value is odd\")\n",
    "print(\"value is\", value)"
   ]
  },
  {
   "cell_type": "code",
   "execution_count": 14,
   "metadata": {},
   "outputs": [],
   "source": [
    "evens = 0\n",
    "odds = 0"
   ]
  },
  {
   "cell_type": "code",
   "execution_count": 21,
   "metadata": {},
   "outputs": [
    {
     "name": "stdout",
     "output_type": "stream",
     "text": [
      "value is odd\n",
      "value is 2897\n",
      "odds 3\n",
      "evens 4\n"
     ]
    }
   ],
   "source": [
    "value = random.randint(1000,9999)\n",
    "if value % 2 == 1:\n",
    "    print(\"value is odd\")\n",
    "    odds = odds + 1\n",
    "else:\n",
    "    evens += 1\n",
    "print(\"value is\", value)\n",
    "print(\"odds\", odds)\n",
    "print(\"evens\", evens)"
   ]
  },
  {
   "cell_type": "code",
   "execution_count": 24,
   "metadata": {},
   "outputs": [
    {
     "name": "stdout",
     "output_type": "stream",
     "text": [
      "value is odd\n",
      "value is 2333\n",
      "odds 4\n",
      "evens 4\n",
      "value is 5092\n",
      "odds 4\n",
      "evens 5\n",
      "value is odd\n",
      "value is 1607\n",
      "odds 5\n",
      "evens 5\n",
      "value is 6550\n",
      "odds 5\n",
      "evens 6\n",
      "value is odd\n",
      "value is 5681\n",
      "odds 6\n",
      "evens 6\n",
      "value is odd\n",
      "value is 1329\n",
      "odds 7\n",
      "evens 6\n",
      "value is odd\n",
      "value is 8537\n",
      "odds 8\n",
      "evens 6\n",
      "value is 3528\n",
      "odds 8\n",
      "evens 7\n",
      "value is 2868\n",
      "odds 8\n",
      "evens 8\n",
      "value is 5178\n",
      "odds 8\n",
      "evens 9\n",
      "value is odd\n",
      "value is 3809\n",
      "odds 9\n",
      "evens 9\n",
      "value is 1402\n",
      "odds 9\n",
      "evens 10\n",
      "value is odd\n",
      "value is 4781\n",
      "odds 10\n",
      "evens 10\n",
      "value is 8584\n",
      "odds 10\n",
      "evens 11\n",
      "value is odd\n",
      "value is 8583\n",
      "odds 11\n",
      "evens 11\n",
      "value is odd\n",
      "value is 9475\n",
      "odds 12\n",
      "evens 11\n",
      "value is odd\n",
      "value is 1545\n",
      "odds 13\n",
      "evens 11\n",
      "value is odd\n",
      "value is 3683\n",
      "odds 14\n",
      "evens 11\n",
      "value is 8696\n",
      "odds 14\n",
      "evens 12\n",
      "value is 2894\n",
      "odds 14\n",
      "evens 13\n",
      "value is odd\n",
      "value is 7021\n",
      "odds 15\n",
      "evens 13\n",
      "value is 7356\n",
      "odds 15\n",
      "evens 14\n",
      "value is 4762\n",
      "odds 15\n",
      "evens 15\n",
      "value is 5970\n",
      "odds 15\n",
      "evens 16\n",
      "value is odd\n",
      "value is 7321\n",
      "odds 16\n",
      "evens 16\n",
      "value is 8046\n",
      "odds 16\n",
      "evens 17\n",
      "value is 3422\n",
      "odds 16\n",
      "evens 18\n",
      "value is odd\n",
      "value is 7875\n",
      "odds 17\n",
      "evens 18\n",
      "value is odd\n",
      "value is 8851\n",
      "odds 18\n",
      "evens 18\n",
      "value is odd\n",
      "value is 3357\n",
      "odds 19\n",
      "evens 18\n",
      "value is odd\n",
      "value is 8509\n",
      "odds 20\n",
      "evens 18\n",
      "value is 7704\n",
      "odds 20\n",
      "evens 19\n",
      "value is 7776\n",
      "odds 20\n",
      "evens 20\n",
      "value is odd\n",
      "value is 7857\n",
      "odds 21\n",
      "evens 20\n",
      "value is odd\n",
      "value is 3129\n",
      "odds 22\n",
      "evens 20\n",
      "value is 6332\n",
      "odds 22\n",
      "evens 21\n",
      "value is 7982\n",
      "odds 22\n",
      "evens 22\n",
      "value is odd\n",
      "value is 9633\n",
      "odds 23\n",
      "evens 22\n",
      "value is odd\n",
      "value is 8475\n",
      "odds 24\n",
      "evens 22\n",
      "value is odd\n",
      "value is 4205\n",
      "odds 25\n",
      "evens 22\n",
      "value is 4984\n",
      "odds 25\n",
      "evens 23\n",
      "value is odd\n",
      "value is 3197\n",
      "odds 26\n",
      "evens 23\n",
      "value is odd\n",
      "value is 3583\n",
      "odds 27\n",
      "evens 23\n",
      "value is odd\n",
      "value is 2725\n",
      "odds 28\n",
      "evens 23\n",
      "value is 4160\n",
      "odds 28\n",
      "evens 24\n",
      "value is odd\n",
      "value is 2275\n",
      "odds 29\n",
      "evens 24\n",
      "value is 4120\n",
      "odds 29\n",
      "evens 25\n",
      "value is odd\n",
      "value is 5373\n",
      "odds 30\n",
      "evens 25\n",
      "value is odd\n",
      "value is 5693\n",
      "odds 31\n",
      "evens 25\n",
      "value is 7872\n",
      "odds 31\n",
      "evens 26\n"
     ]
    }
   ],
   "source": [
    "count = 0\n",
    "\n",
    "while count < 50:\n",
    "    value = random.randint(1000,9999)\n",
    "    if value % 2 == 1:\n",
    "        print(\"value is odd\")\n",
    "        odds = odds + 1\n",
    "    else:\n",
    "        evens += 1\n",
    "    print(\"value is\", value)\n",
    "    print(\"odds\", odds)\n",
    "    print(\"evens\", evens)\n",
    "    count += 1"
   ]
  }
 ],
 "metadata": {
  "kernelspec": {
   "display_name": "Python 3",
   "language": "python",
   "name": "python3"
  },
  "language_info": {
   "codemirror_mode": {
    "name": "ipython",
    "version": 3
   },
   "file_extension": ".py",
   "mimetype": "text/x-python",
   "name": "python",
   "nbconvert_exporter": "python",
   "pygments_lexer": "ipython3",
   "version": "3.10.8"
  },
  "orig_nbformat": 4
 },
 "nbformat": 4,
 "nbformat_minor": 2
}
